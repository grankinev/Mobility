{
 "cells": [
  {
   "cell_type": "code",
   "execution_count": null,
   "metadata": {},
   "outputs": [],
   "source": [
    "https://yastat.net/s3/milab/2020/podomam/data/index_data.json?ts=1586875226"
   ]
  },
  {
   "cell_type": "code",
   "execution_count": null,
   "metadata": {},
   "outputs": [],
   "source": []
  },
  {
   "cell_type": "code",
   "execution_count": 1,
   "metadata": {},
   "outputs": [
    {
     "name": "stdout",
     "output_type": "stream",
     "text": [
      "202005070823\n"
     ]
    }
   ],
   "source": [
    "import datetime\n",
    "import json\n",
    "import requests\n",
    "import os\n",
    "from os.path import isfile, join, exists\n",
    "\n",
    "YAURL = 'https://yastat.net/s3/milab/2020/podomam/data/index_data.json?ts=1586875226'\n",
    "\n",
    "YADIR = r'C:\\Users\\Egran\\YandexDisk\\Work\\Различные тесты\\Mobility'\n",
    "\n",
    "timeexec= datetime.datetime.now().strftime('%Y%m%d%H%M')\n",
    "print(timeexec)\n",
    "\n",
    "page = requests.get(YAURL)\n",
    "data = json.loads(page.content)\n",
    "\n",
    "with open(os.path.join(YADIR, timeexec + '.json'), 'w') as json_file:\n",
    "    json.dump(data, json_file)"
   ]
  },
  {
   "cell_type": "code",
   "execution_count": 3,
   "metadata": {},
   "outputs": [
    {
     "data": {
      "text/plain": [
       "[{'date': '2020-03-02', 'value': 0.5},\n",
       " {'date': '2020-03-03', 'value': 0.4},\n",
       " {'date': '2020-03-04', 'value': 0.4},\n",
       " {'date': '2020-03-05', 'value': 0.4},\n",
       " {'date': '2020-03-06', 'value': 0.4},\n",
       " {'date': '2020-03-07', 'value': 2.0},\n",
       " {'date': '2020-03-08', 'value': 2.4},\n",
       " {'date': '2020-03-09', 'value': 2.4},\n",
       " {'date': '2020-03-10', 'value': 0.4},\n",
       " {'date': '2020-03-11', 'value': 0.4},\n",
       " {'date': '2020-03-12', 'value': 0.5},\n",
       " {'date': '2020-03-13', 'value': 0.5},\n",
       " {'date': '2020-03-14', 'value': 2.1},\n",
       " {'date': '2020-03-15', 'value': 2.6},\n",
       " {'date': '2020-03-16', 'value': 0.7},\n",
       " {'date': '2020-03-17', 'value': 0.6},\n",
       " {'date': '2020-03-18', 'value': 0.8},\n",
       " {'date': '2020-03-19', 'value': 0.9},\n",
       " {'date': '2020-03-20', 'value': 0.9},\n",
       " {'date': '2020-03-21', 'value': 2.4},\n",
       " {'date': '2020-03-22', 'value': 2.8},\n",
       " {'date': '2020-03-23', 'value': 1.0},\n",
       " {'date': '2020-03-24', 'value': 1.1},\n",
       " {'date': '2020-03-25', 'value': 1.0},\n",
       " {'date': '2020-03-26', 'value': 1.1},\n",
       " {'date': '2020-03-27', 'value': 1.1},\n",
       " {'date': '2020-03-28', 'value': 3.0},\n",
       " {'date': '2020-03-29', 'value': 3.6},\n",
       " {'date': '2020-03-30', 'value': 3.0},\n",
       " {'date': '2020-03-31', 'value': 3.2},\n",
       " {'date': '2020-04-01', 'value': 3.4},\n",
       " {'date': '2020-04-02', 'value': 3.5},\n",
       " {'date': '2020-04-03', 'value': 3.4},\n",
       " {'date': '2020-04-04', 'value': 3.8},\n",
       " {'date': '2020-04-05', 'value': 3.9},\n",
       " {'date': '2020-04-06', 'value': 2.9},\n",
       " {'date': '2020-04-07', 'value': 2.8},\n",
       " {'date': '2020-04-08', 'value': 2.8},\n",
       " {'date': '2020-04-09', 'value': 2.8},\n",
       " {'date': '2020-04-10', 'value': 2.7},\n",
       " {'date': '2020-04-11', 'value': 3.5},\n",
       " {'date': '2020-04-12', 'value': 3.8},\n",
       " {'date': '2020-04-13', 'value': 2.7},\n",
       " {'date': '2020-04-14', 'value': 2.7},\n",
       " {'date': '2020-04-15', 'value': 2.7},\n",
       " {'date': '2020-04-16', 'value': 2.7},\n",
       " {'date': '2020-04-17', 'value': 2.7},\n",
       " {'date': '2020-04-18', 'value': 3.5},\n",
       " {'date': '2020-04-19', 'value': 3.8},\n",
       " {'date': '2020-04-20', 'value': 2.7},\n",
       " {'date': '2020-04-21', 'value': 2.6},\n",
       " {'date': '2020-04-22', 'value': 2.6},\n",
       " {'date': '2020-04-23', 'value': 2.5},\n",
       " {'date': '2020-04-24', 'value': 2.6},\n",
       " {'date': '2020-04-25', 'value': 3.2},\n",
       " {'date': '2020-04-26', 'value': 3.6},\n",
       " {'date': '2020-04-27', 'value': 2.5},\n",
       " {'date': '2020-04-28', 'value': 2.4},\n",
       " {'date': '2020-04-29', 'value': 2.4},\n",
       " {'date': '2020-04-30', 'value': 2.3},\n",
       " {'date': '2020-05-01', 'value': 3.1},\n",
       " {'date': '2020-05-02', 'value': 3.1},\n",
       " {'date': '2020-05-03', 'value': 3.4},\n",
       " {'date': '2020-05-04', 'value': 3.0},\n",
       " {'date': '2020-05-05', 'value': 2.9},\n",
       " {'date': '2020-05-06', 'value': 2.1, 'diff': 1.7}]"
      ]
     },
     "execution_count": 3,
     "metadata": {},
     "output_type": "execute_result"
    }
   ],
   "source": [
    "data['Санкт-Петербург']"
   ]
  },
  {
   "cell_type": "code",
   "execution_count": null,
   "metadata": {},
   "outputs": [],
   "source": []
  }
 ],
 "metadata": {
  "kernelspec": {
   "display_name": "Python 3",
   "language": "python",
   "name": "python3"
  },
  "language_info": {
   "codemirror_mode": {
    "name": "ipython",
    "version": 3
   },
   "file_extension": ".py",
   "mimetype": "text/x-python",
   "name": "python",
   "nbconvert_exporter": "python",
   "pygments_lexer": "ipython3",
   "version": "3.7.6"
  }
 },
 "nbformat": 4,
 "nbformat_minor": 4
}
